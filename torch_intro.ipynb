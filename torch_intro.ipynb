{
 "cells": [
  {
   "cell_type": "code",
   "execution_count": 1,
   "metadata": {},
   "outputs": [],
   "source": [
    "import torch"
   ]
  },
  {
   "cell_type": "code",
   "execution_count": 2,
   "metadata": {},
   "outputs": [],
   "source": [
    "import torchvision"
   ]
  },
  {
   "cell_type": "code",
   "execution_count": 5,
   "metadata": {},
   "outputs": [
    {
     "name": "stdout",
     "output_type": "stream",
     "text": [
      "tensor([2, 2, 1])\n"
     ]
    }
   ],
   "source": [
    "#this is 1-d tensor\n",
    "a=torch.tensor([2,2,1])\n",
    "print(a)"
   ]
  },
  {
   "cell_type": "code",
   "execution_count": 6,
   "metadata": {},
   "outputs": [
    {
     "name": "stdout",
     "output_type": "stream",
     "text": [
      "tensor([[ 1,  2,  3],\n",
      "        [ 2,  3,  1],\n",
      "        [ 0,  1, 10],\n",
      "        [ 2,  3, 10]])\n"
     ]
    }
   ],
   "source": [
    "#this is 2-d tensor\n",
    "b=torch.tensor([ [1,2,3],[2,3,1],[0,1,10],[2,3,10] ])\n",
    "print(b)"
   ]
  },
  {
   "cell_type": "code",
   "execution_count": 7,
   "metadata": {},
   "outputs": [
    {
     "name": "stdout",
     "output_type": "stream",
     "text": [
      "torch.Size([3])\n",
      "torch.Size([4, 3])\n",
      "torch.Size([3])\n",
      "torch.Size([4, 3])\n"
     ]
    }
   ],
   "source": [
    "#size of a tensor\n",
    "print(a.shape)\n",
    "print(b.shape)\n",
    "print(a.size())\n",
    "print(b.size())\n"
   ]
  },
  {
   "cell_type": "code",
   "execution_count": 8,
   "metadata": {},
   "outputs": [
    {
     "name": "stdout",
     "output_type": "stream",
     "text": [
      "4\n"
     ]
    }
   ],
   "source": [
    "# getting the no of rows\n",
    "print(b.shape[0])"
   ]
  },
  {
   "cell_type": "code",
   "execution_count": 9,
   "metadata": {},
   "outputs": [
    {
     "name": "stdout",
     "output_type": "stream",
     "text": [
      "tensor([[1.1000, 2.2000, 3.2000],\n",
      "        [2.0000, 4.0000, 4.0000]], dtype=torch.float64)\n"
     ]
    }
   ],
   "source": [
    "# making a DoubleTensor\n",
    "c=torch.DoubleTensor([[1.1,2.2,3.2],[2,4,4]])\n",
    "print(c)\n"
   ]
  },
  {
   "cell_type": "code",
   "execution_count": 11,
   "metadata": {},
   "outputs": [
    {
     "name": "stdout",
     "output_type": "stream",
     "text": [
      "torch.float64\n"
     ]
    }
   ],
   "source": [
    "#getting datatype of tensor\n",
    "print(c.dtype)"
   ]
  },
  {
   "cell_type": "code",
   "execution_count": 12,
   "metadata": {},
   "outputs": [
    {
     "name": "stdout",
     "output_type": "stream",
     "text": [
      "tensor(2.7500, dtype=torch.float64)\n",
      "tensor(1.1760, dtype=torch.float64)\n"
     ]
    }
   ],
   "source": [
    "#getting mean and standard deviation for tensor\n",
    "print(c.mean())\n",
    "print(c.std())"
   ]
  },
  {
   "cell_type": "code",
   "execution_count": 13,
   "metadata": {},
   "outputs": [
    {
     "name": "stdout",
     "output_type": "stream",
     "text": [
      "tensor([[ 1],\n",
      "        [ 2],\n",
      "        [ 3],\n",
      "        [ 2],\n",
      "        [ 3],\n",
      "        [ 1],\n",
      "        [ 0],\n",
      "        [ 1],\n",
      "        [10],\n",
      "        [ 2],\n",
      "        [ 3],\n",
      "        [10]])\n",
      "tensor([ 1,  2,  3,  2,  3,  1,  0,  1, 10,  2,  3, 10])\n"
     ]
    }
   ],
   "source": [
    "# resize tensor\n",
    "# if one of the dimension is -1 then other can be inferred\n",
    "\n",
    "print(b.view(-1,1))\n",
    "print(b.view(12))"
   ]
  },
  {
   "cell_type": "code",
   "execution_count": null,
   "metadata": {},
   "outputs": [],
   "source": [
    "#for changing it permanently we have to assign also , b=b.view(12,1)"
   ]
  },
  {
   "cell_type": "code",
   "execution_count": 15,
   "metadata": {},
   "outputs": [
    {
     "name": "stdout",
     "output_type": "stream",
     "text": [
      "tensor([[[ 0.1303,  0.2460, -0.6496,  1.4130],\n",
      "         [-1.1850,  0.2391, -0.1815,  0.4960],\n",
      "         [-0.0804,  1.6873,  0.8309,  1.3578]],\n",
      "\n",
      "        [[ 0.1365,  0.6257,  0.8353,  0.2533],\n",
      "         [ 0.1528,  1.0380,  1.3261, -0.8019],\n",
      "         [ 1.2898, -0.1633, -0.3569, -0.2346]]])\n"
     ]
    }
   ],
   "source": [
    "# now create a 3D tensor with 2 channels,3 rows and 4 columns\n",
    "three_dim=torch.randn(2,3,4)\n",
    "print(three_dim)"
   ]
  },
  {
   "cell_type": "code",
   "execution_count": 17,
   "metadata": {},
   "outputs": [
    {
     "name": "stdout",
     "output_type": "stream",
     "text": [
      "tensor([[ 0.1303,  0.2460, -0.6496,  1.4130, -1.1850,  0.2391, -0.1815,  0.4960,\n",
      "         -0.0804,  1.6873,  0.8309,  1.3578],\n",
      "        [ 0.1365,  0.6257,  0.8353,  0.2533,  0.1528,  1.0380,  1.3261, -0.8019,\n",
      "          1.2898, -0.1633, -0.3569, -0.2346]])\n"
     ]
    }
   ],
   "source": [
    "print(three_dim.view(2,12))"
   ]
  },
  {
   "cell_type": "code",
   "execution_count": 18,
   "metadata": {},
   "outputs": [
    {
     "name": "stdout",
     "output_type": "stream",
     "text": [
      "tensor([[0.4213, 0.1603, 0.4661, 0.6870],\n",
      "        [0.6705, 0.0708, 0.3876, 0.3845],\n",
      "        [0.7308, 0.2516, 0.3530, 0.5020],\n",
      "        [0.3116, 0.4062, 0.2945, 0.2167]])\n"
     ]
    }
   ],
   "source": [
    "# random values b/w 0 and 1 \n",
    "r=torch.rand(4,4)\n",
    "print(r)"
   ]
  },
  {
   "cell_type": "code",
   "execution_count": 19,
   "metadata": {},
   "outputs": [
    {
     "name": "stdout",
     "output_type": "stream",
     "text": [
      "tensor([[ 1.5078,  0.4963,  0.8182,  1.4166],\n",
      "        [-0.6677,  1.0040, -0.9602,  1.0656],\n",
      "        [ 1.5759, -1.3617, -1.1755,  0.0451],\n",
      "        [ 0.0157,  0.1271, -0.0364, -0.3154]])\n"
     ]
    }
   ],
   "source": [
    "# random values but having mean = 0 and var = 1\n",
    "r2=torch.randn(4,4)\n",
    "print(r2)"
   ]
  },
  {
   "cell_type": "code",
   "execution_count": 21,
   "metadata": {},
   "outputs": [
    {
     "name": "stdout",
     "output_type": "stream",
     "text": [
      "tensor([8, 7, 8, 8, 6])\n"
     ]
    }
   ],
   "source": [
    "# create array of 5 random integers having values b/w 6 to 9 (both inclusive)\n",
    "in_array=torch.randint(6,10,(5,))\n",
    "print(in_array)\n"
   ]
  },
  {
   "cell_type": "code",
   "execution_count": 22,
   "metadata": {},
   "outputs": [
    {
     "name": "stdout",
     "output_type": "stream",
     "text": [
      "tensor([[6, 8, 7],\n",
      "        [6, 8, 6],\n",
      "        [6, 6, 7]])\n"
     ]
    }
   ],
   "source": [
    "# create 2-d array of 3*3 random integers having values b/w 6 to 9 (both inclusive)\n",
    "in_array2=torch.randint(6,10,(3,3))\n",
    "print(in_array2)"
   ]
  },
  {
   "cell_type": "code",
   "execution_count": 23,
   "metadata": {},
   "outputs": [
    {
     "name": "stdout",
     "output_type": "stream",
     "text": [
      "5\n"
     ]
    }
   ],
   "source": [
    "#getting number of elements \n",
    "print(torch.numel(in_array))"
   ]
  },
  {
   "cell_type": "code",
   "execution_count": 33,
   "metadata": {},
   "outputs": [
    {
     "name": "stdout",
     "output_type": "stream",
     "text": [
      "tensor([[0., 0., 0.],\n",
      "        [0., 0., 0.],\n",
      "        [0., 0., 0.]])\n",
      "tensor([[1., 1., 1.],\n",
      "        [1., 1., 1.],\n",
      "        [1., 1., 1.]])\n"
     ]
    }
   ],
   "source": [
    "# creating matix of zeros and ones\n",
    "zero_arr=torch.zeros(3,3)\n",
    "print(zero_arr)\n",
    "one_arr=torch.ones(3,3)\n",
    "print(one_arr)"
   ]
  },
  {
   "cell_type": "code",
   "execution_count": 36,
   "metadata": {},
   "outputs": [
    {
     "name": "stdout",
     "output_type": "stream",
     "text": [
      "tensor([[1., 1., 1.],\n",
      "        [1., 1., 1.],\n",
      "        [1., 1., 1.]])\n",
      "tensor([[2., 3., 4.],\n",
      "        [2., 3., 4.],\n",
      "        [2., 3., 4.]])\n"
     ]
    }
   ],
   "source": [
    "res=torch.add(zero_arr,one_arr)\n",
    "print(res)\n",
    "res2=torch.add(one_arr,torch.FloatTensor([[1,2,3],[1,2,3],[1,2,3]]))\n",
    "print(res2)"
   ]
  },
  {
   "cell_type": "code",
   "execution_count": 42,
   "metadata": {},
   "outputs": [
    {
     "name": "stdout",
     "output_type": "stream",
     "text": [
      "tensor([[2., 3., 4.],\n",
      "        [2., 3., 4.],\n",
      "        [2., 3., 4.]])\n",
      "tensor([[2., 3.],\n",
      "        [2., 3.],\n",
      "        [2., 3.]])\n",
      "tensor(4.)\n"
     ]
    }
   ],
   "source": [
    "print(res2[:,:])\n",
    "print(res2[:,:2])\n",
    "hiten=res2[1,2]\n",
    "print(hiten)"
   ]
  },
  {
   "cell_type": "code",
   "execution_count": null,
   "metadata": {},
   "outputs": [],
   "source": []
  }
 ],
 "metadata": {
  "kernelspec": {
   "display_name": "Python 3",
   "language": "python",
   "name": "python3"
  },
  "language_info": {
   "codemirror_mode": {
    "name": "ipython",
    "version": 3
   },
   "file_extension": ".py",
   "mimetype": "text/x-python",
   "name": "python",
   "nbconvert_exporter": "python",
   "pygments_lexer": "ipython3",
   "version": "3.7.3"
  }
 },
 "nbformat": 4,
 "nbformat_minor": 2
}
